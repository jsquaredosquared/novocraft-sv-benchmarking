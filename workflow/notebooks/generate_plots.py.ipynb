{
 "cells": [
  {
   "cell_type": "code",
   "execution_count": 1,
   "id": "5a00b521",
   "metadata": {
    "tags": [
     "snakemake-job-properties"
    ]
   },
   "outputs": [],
   "source": [
    "######## snakemake preamble start (automatically inserted, do not edit) ########\n",
    "import sys\n",
    "\n",
    "sys.path.extend(\n",
    "    [\n",
    "        \"/export/git/Programs/Utilities/miniforge3/envs/jeffrey-base/lib/python3.12/site-packages\",\n",
    "        \"/export/home/jeffrey/Documents/sv-benchmarking/workflow/rules\",\n",
    "        \"/export/git/Programs/Utilities/miniforge3/envs/jeffrey-base/bin\",\n",
    "        \"/export/git/Programs/Utilities/miniforge3/envs/jeffrey-base/lib/python3.12\",\n",
    "        \"/export/git/Programs/Utilities/miniforge3/envs/jeffrey-base/lib/python3.12/lib-dynload\",\n",
    "        \"/export/home/jeffrey/.local/lib/python3.12/site-packages\",\n",
    "        \"/export/git/Programs/Utilities/miniforge3/envs/jeffrey-base/lib/python3.12/site-packages\",\n",
    "        \"/export/home/jeffrey/Documents/sv-benchmarking/workflow/notebooks\",\n",
    "    ]\n",
    ")\n",
    "import pickle\n",
    "from snakemake import script\n",
    "\n",
    "script.snakemake = pickle.loads(\n",
    "    b'\\x80\\x04\\x95*\\n\\x00\\x00\\x00\\x00\\x00\\x00\\x8c\\x10snakemake.script\\x94\\x8c\\tSnakemake\\x94\\x93\\x94)\\x81\\x94}\\x94(\\x8c\\x05input\\x94\\x8c\\x0csnakemake.io\\x94\\x8c\\nInputFiles\\x94\\x93\\x94)\\x81\\x94(\\x8cA../../outputs/truvari/HG002.bwa-mem2.delly.ALL.truvari-bench.json\\x94\\x8cA../../outputs/truvari/HG002.bwa-mem2.delly.DEL.truvari-bench.json\\x94\\x8cA../../outputs/truvari/HG002.bwa-mem2.delly.INS.truvari-bench.json\\x94\\x8cA../../outputs/truvari/HG002.bwa-mem2.dysgu.ALL.truvari-bench.json\\x94\\x8cA../../outputs/truvari/HG002.bwa-mem2.dysgu.DEL.truvari-bench.json\\x94\\x8cA../../outputs/truvari/HG002.bwa-mem2.dysgu.INS.truvari-bench.json\\x94\\x8cA../../outputs/truvari/HG002.bwa-mem2.manta.ALL.truvari-bench.json\\x94\\x8cA../../outputs/truvari/HG002.bwa-mem2.manta.DEL.truvari-bench.json\\x94\\x8cA../../outputs/truvari/HG002.bwa-mem2.manta.INS.truvari-bench.json\\x94\\x8cB../../outputs/truvari/HG002.novoalign.delly.ALL.truvari-bench.json\\x94\\x8cB../../outputs/truvari/HG002.novoalign.delly.DEL.truvari-bench.json\\x94\\x8cB../../outputs/truvari/HG002.novoalign.delly.INS.truvari-bench.json\\x94\\x8cB../../outputs/truvari/HG002.novoalign.dysgu.ALL.truvari-bench.json\\x94\\x8cB../../outputs/truvari/HG002.novoalign.dysgu.DEL.truvari-bench.json\\x94\\x8cB../../outputs/truvari/HG002.novoalign.dysgu.INS.truvari-bench.json\\x94\\x8cB../../outputs/truvari/HG002.novoalign.manta.ALL.truvari-bench.json\\x94\\x8cB../../outputs/truvari/HG002.novoalign.manta.DEL.truvari-bench.json\\x94\\x8cB../../outputs/truvari/HG002.novoalign.manta.INS.truvari-bench.json\\x94e}\\x94(\\x8c\\x06_names\\x94}\\x94\\x8c\\x12_allowed_overrides\\x94]\\x94(\\x8c\\x05index\\x94\\x8c\\x04sort\\x94eh!h\\x06\\x8c\\x0eAttributeGuard\\x94\\x93\\x94)\\x81\\x94}\\x94\\x8c\\x04name\\x94h!sbh\"h$)\\x81\\x94}\\x94h\\'h\"sbub\\x8c\\x06output\\x94h\\x06\\x8c\\x0bOutputFiles\\x94\\x93\\x94)\\x81\\x94\\x8c\\x08test.txt\\x94a}\\x94(h\\x1d}\\x94h\\x1f]\\x94(h!h\"eh!h$)\\x81\\x94}\\x94h\\'h!sbh\"h$)\\x81\\x94}\\x94h\\'h\"sbub\\x8c\\x06params\\x94h\\x06\\x8c\\x06Params\\x94\\x93\\x94)\\x81\\x94}\\x94(h\\x1d}\\x94h\\x1f]\\x94(h!h\"eh!h$)\\x81\\x94}\\x94h\\'h!sbh\"h$)\\x81\\x94}\\x94h\\'h\"sbub\\x8c\\twildcards\\x94h\\x06\\x8c\\tWildcards\\x94\\x93\\x94)\\x81\\x94}\\x94(h\\x1d}\\x94h\\x1f]\\x94(h!h\"eh!h$)\\x81\\x94}\\x94h\\'h!sbh\"h$)\\x81\\x94}\\x94h\\'h\"sbub\\x8c\\x07threads\\x94K\\x01\\x8c\\tresources\\x94h\\x06\\x8c\\tResources\\x94\\x93\\x94)\\x81\\x94(K\\x01K\\x01\\x8c\\x04/tmp\\x94e}\\x94(h\\x1d}\\x94(\\x8c\\x06_cores\\x94K\\x00N\\x86\\x94\\x8c\\x06_nodes\\x94K\\x01N\\x86\\x94\\x8c\\x06tmpdir\\x94K\\x02N\\x86\\x94uh\\x1f]\\x94(h!h\"eh!h$)\\x81\\x94}\\x94h\\'h!sbh\"h$)\\x81\\x94}\\x94h\\'h\"sbhTK\\x01hVK\\x01hXhQub\\x8c\\x03log\\x94h\\x06\\x8c\\x03Log\\x94\\x93\\x94)\\x81\\x94}\\x94(h\\x1d}\\x94h\\x1f]\\x94(h!h\"eh!h$)\\x81\\x94}\\x94h\\'h!sbh\"h$)\\x81\\x94}\\x94h\\'h\"sbub\\x8c\\x06config\\x94}\\x94(\\x8c\\treference\\x94\\x8c1../../resources/reference-genome/GRCh37/hs37d5.fa\\x94\\x8c\\x08aligners\\x94}\\x94(\\x8c\\x08bwa-mem2\\x94\\x8c\\x00\\x94\\x8c\\tnovoalign\\x94\\x8c3/export/home/jeffrey/.local/bin/novocraft/novoalign\\x94u\\x8c\\tnovoindex\\x94\\x8c3/export/home/jeffrey/.local/bin/novocraft/novoindex\\x94\\x8c\\x07samples\\x94}\\x94\\x8c\\x05HG002\\x94]\\x94(\\x8cC../../resources/samples/HG002/HG002_HiSeq30x_subsampled_R1.fastq.gz\\x94\\x8cC../../resources/samples/HG002/HG002_HiSeq30x_subsampled_R2.fastq.gz\\x94es\\x8c\\x07callers\\x94]\\x94(\\x8c\\x05delly\\x94\\x8c\\x05dysgu\\x94\\x8c\\x05manta\\x94e\\x8c\\ntruth_sets\\x94}\\x94\\x8c\\x05HG002\\x94\\x8cC../../resources/sv-benchmarks/HG002/HG002_SVs_Tier1_v0.6.ALL.vcf.gz\\x94s\\x8c\\x11truth_set_svtypes\\x94]\\x94(\\x8c\\x03ALL\\x94\\x8c\\x03DEL\\x94\\x8c\\x03INS\\x94eu\\x8c\\x04rule\\x94\\x8c\\x0egenerate_plots\\x94\\x8c\\x0fbench_iteration\\x94N\\x8c\\tscriptdir\\x94\\x8cA/export/home/jeffrey/Documents/sv-benchmarking/workflow/notebooks\\x94ub.'\n",
    ")\n",
    "del script\n",
    "from snakemake.logging import logger\n",
    "from snakemake.script import snakemake\n",
    "\n",
    "logger.printshellcmds = False\n",
    "import os\n",
    "\n",
    "os.chdir(r\"/export/home/jeffrey/Documents/sv-benchmarking/workflow/rules\")\n",
    "######## snakemake preamble end #########"
   ]
  },
  {
   "cell_type": "code",
   "execution_count": null,
   "id": "c6b52ac2",
   "metadata": {},
   "outputs": [],
   "source": [
    "# start coding here"
   ]
  },
  {
   "cell_type": "code",
   "execution_count": 41,
   "id": "86be0ad3",
   "metadata": {},
   "outputs": [
    {
     "name": "stdout",
     "output_type": "stream",
     "text": [
      "Collecting polars\n",
      "  Downloading polars-1.4.1-cp38-abi3-manylinux_2_17_x86_64.manylinux2014_x86_64.whl.metadata (14 kB)\n",
      "Downloading polars-1.4.1-cp38-abi3-manylinux_2_17_x86_64.manylinux2014_x86_64.whl (31.5 MB)\n",
      "\u001b[2K   \u001b[38;2;114;156;31m━━━━━━━━━━━━━━━━━━━━━━━━━━━━━━━━━━━━━━━━\u001b[0m \u001b[32m31.5/31.5 MB\u001b[0m \u001b[31m2.6 MB/s\u001b[0m eta \u001b[36m0:00:00\u001b[0mm eta \u001b[36m0:00:01\u001b[0m[36m0:00:01\u001b[0m\n",
      "\u001b[?25hInstalling collected packages: polars\n",
      "Successfully installed polars-1.4.1\n",
      "Note: you may need to restart the kernel to use updated packages.\n"
     ]
    }
   ],
   "source": [
    "%pip install polars"
   ]
  },
  {
   "cell_type": "code",
   "execution_count": 53,
   "id": "43717515",
   "metadata": {},
   "outputs": [
    {
     "name": "stdout",
     "output_type": "stream",
     "text": [
      "Collecting altair[all]\n",
      "  Downloading altair-5.3.0-py3-none-any.whl.metadata (9.2 kB)\n",
      "Requirement already satisfied: jinja2 in ./.snakemake/conda/cb1bd2082bdba68394676156cfbae5c8_/lib/python3.12/site-packages (from altair[all]) (3.1.4)\n",
      "Requirement already satisfied: jsonschema>=3.0 in ./.snakemake/conda/cb1bd2082bdba68394676156cfbae5c8_/lib/python3.12/site-packages (from altair[all]) (4.23.0)\n",
      "Collecting numpy (from altair[all])\n",
      "  Downloading numpy-2.0.1-cp312-cp312-manylinux_2_17_x86_64.manylinux2014_x86_64.whl.metadata (60 kB)\n",
      "Requirement already satisfied: packaging in ./.snakemake/conda/cb1bd2082bdba68394676156cfbae5c8_/lib/python3.12/site-packages (from altair[all]) (24.1)\n",
      "Collecting pandas>=0.25 (from altair[all])\n",
      "  Downloading pandas-2.2.2-cp312-cp312-manylinux_2_17_x86_64.manylinux2014_x86_64.whl.metadata (19 kB)\n",
      "Collecting toolz (from altair[all])\n",
      "  Downloading toolz-0.12.1-py3-none-any.whl.metadata (5.1 kB)\n",
      "Collecting altair-tiles>=0.3.0 (from altair[all])\n",
      "  Downloading altair_tiles-0.3.0-py3-none-any.whl.metadata (2.7 kB)\n",
      "Collecting anywidget>=0.9.0 (from altair[all])\n",
      "  Downloading anywidget-0.9.13-py3-none-any.whl.metadata (7.2 kB)\n",
      "Collecting pyarrow>=11 (from altair[all])\n",
      "  Downloading pyarrow-17.0.0-cp312-cp312-manylinux_2_28_x86_64.whl.metadata (3.3 kB)\n",
      "Collecting vega-datasets>=0.9.0 (from altair[all])\n",
      "  Downloading vega_datasets-0.9.0-py3-none-any.whl.metadata (5.5 kB)\n",
      "Collecting vegafusion>=1.6.6 (from vegafusion[embed]>=1.6.6; extra == \"all\"->altair[all])\n",
      "  Downloading vegafusion-1.6.9-py3-none-any.whl.metadata (1.3 kB)\n",
      "Collecting vl-convert-python>=1.3.0 (from altair[all])\n",
      "  Downloading vl_convert_python-1.5.1-cp37-abi3-manylinux_2_17_x86_64.manylinux2014_x86_64.whl.metadata (5.2 kB)\n",
      "Collecting mercantile (from altair-tiles>=0.3.0->altair[all])\n",
      "  Downloading mercantile-1.2.1-py3-none-any.whl.metadata (4.8 kB)\n",
      "Collecting xyzservices (from altair-tiles>=0.3.0->altair[all])\n",
      "  Downloading xyzservices-2024.6.0-py3-none-any.whl.metadata (4.0 kB)\n",
      "Requirement already satisfied: ipywidgets>=7.6.0 in ./.snakemake/conda/cb1bd2082bdba68394676156cfbae5c8_/lib/python3.12/site-packages (from anywidget>=0.9.0->altair[all]) (8.1.3)\n",
      "Collecting psygnal>=0.8.1 (from anywidget>=0.9.0->altair[all])\n",
      "  Downloading psygnal-0.11.1-cp312-cp312-manylinux_2_17_x86_64.manylinux2014_x86_64.whl.metadata (7.2 kB)\n",
      "Requirement already satisfied: typing-extensions>=4.2.0 in ./.snakemake/conda/cb1bd2082bdba68394676156cfbae5c8_/lib/python3.12/site-packages (from anywidget>=0.9.0->altair[all]) (4.12.2)\n",
      "Requirement already satisfied: attrs>=22.2.0 in ./.snakemake/conda/cb1bd2082bdba68394676156cfbae5c8_/lib/python3.12/site-packages (from jsonschema>=3.0->altair[all]) (24.1.0)\n",
      "Requirement already satisfied: jsonschema-specifications>=2023.03.6 in ./.snakemake/conda/cb1bd2082bdba68394676156cfbae5c8_/lib/python3.12/site-packages (from jsonschema>=3.0->altair[all]) (2023.12.1)\n",
      "Requirement already satisfied: referencing>=0.28.4 in ./.snakemake/conda/cb1bd2082bdba68394676156cfbae5c8_/lib/python3.12/site-packages (from jsonschema>=3.0->altair[all]) (0.35.1)\n",
      "Requirement already satisfied: rpds-py>=0.7.1 in ./.snakemake/conda/cb1bd2082bdba68394676156cfbae5c8_/lib/python3.12/site-packages (from jsonschema>=3.0->altair[all]) (0.19.1)\n",
      "Requirement already satisfied: python-dateutil>=2.8.2 in ./.snakemake/conda/cb1bd2082bdba68394676156cfbae5c8_/lib/python3.12/site-packages (from pandas>=0.25->altair[all]) (2.9.0)\n",
      "Requirement already satisfied: pytz>=2020.1 in ./.snakemake/conda/cb1bd2082bdba68394676156cfbae5c8_/lib/python3.12/site-packages (from pandas>=0.25->altair[all]) (2024.1)\n",
      "Collecting tzdata>=2022.7 (from pandas>=0.25->altair[all])\n",
      "  Using cached tzdata-2024.1-py2.py3-none-any.whl.metadata (1.4 kB)\n",
      "Requirement already satisfied: psutil in ./.snakemake/conda/cb1bd2082bdba68394676156cfbae5c8_/lib/python3.12/site-packages (from vegafusion>=1.6.6->vegafusion[embed]>=1.6.6; extra == \"all\"->altair[all]) (6.0.0)\n",
      "Collecting protobuf (from vegafusion>=1.6.6->vegafusion[embed]>=1.6.6; extra == \"all\"->altair[all])\n",
      "  Downloading protobuf-5.27.3-cp38-abi3-manylinux2014_x86_64.whl.metadata (592 bytes)\n",
      "Collecting vegafusion-python-embed==1.6.9 (from vegafusion[embed]>=1.6.6; extra == \"all\"->altair[all])\n",
      "  Downloading vegafusion_python_embed-1.6.9-cp38-abi3-manylinux_2_17_x86_64.manylinux2014_x86_64.whl.metadata (394 bytes)\n",
      "Requirement already satisfied: MarkupSafe>=2.0 in ./.snakemake/conda/cb1bd2082bdba68394676156cfbae5c8_/lib/python3.12/site-packages (from jinja2->altair[all]) (2.1.5)\n",
      "Requirement already satisfied: comm>=0.1.3 in ./.snakemake/conda/cb1bd2082bdba68394676156cfbae5c8_/lib/python3.12/site-packages (from ipywidgets>=7.6.0->anywidget>=0.9.0->altair[all]) (0.2.2)\n",
      "Requirement already satisfied: ipython>=6.1.0 in ./.snakemake/conda/cb1bd2082bdba68394676156cfbae5c8_/lib/python3.12/site-packages (from ipywidgets>=7.6.0->anywidget>=0.9.0->altair[all]) (8.26.0)\n",
      "Requirement already satisfied: traitlets>=4.3.1 in ./.snakemake/conda/cb1bd2082bdba68394676156cfbae5c8_/lib/python3.12/site-packages (from ipywidgets>=7.6.0->anywidget>=0.9.0->altair[all]) (5.14.3)\n",
      "Requirement already satisfied: widgetsnbextension~=4.0.11 in ./.snakemake/conda/cb1bd2082bdba68394676156cfbae5c8_/lib/python3.12/site-packages (from ipywidgets>=7.6.0->anywidget>=0.9.0->altair[all]) (4.0.11)\n",
      "Requirement already satisfied: jupyterlab-widgets~=3.0.11 in ./.snakemake/conda/cb1bd2082bdba68394676156cfbae5c8_/lib/python3.12/site-packages (from ipywidgets>=7.6.0->anywidget>=0.9.0->altair[all]) (3.0.11)\n",
      "Requirement already satisfied: six>=1.5 in ./.snakemake/conda/cb1bd2082bdba68394676156cfbae5c8_/lib/python3.12/site-packages (from python-dateutil>=2.8.2->pandas>=0.25->altair[all]) (1.16.0)\n",
      "Collecting click>=3.0 (from mercantile->altair-tiles>=0.3.0->altair[all])\n",
      "  Using cached click-8.1.7-py3-none-any.whl.metadata (3.0 kB)\n",
      "Requirement already satisfied: decorator in ./.snakemake/conda/cb1bd2082bdba68394676156cfbae5c8_/lib/python3.12/site-packages (from ipython>=6.1.0->ipywidgets>=7.6.0->anywidget>=0.9.0->altair[all]) (5.1.1)\n",
      "Requirement already satisfied: jedi>=0.16 in ./.snakemake/conda/cb1bd2082bdba68394676156cfbae5c8_/lib/python3.12/site-packages (from ipython>=6.1.0->ipywidgets>=7.6.0->anywidget>=0.9.0->altair[all]) (0.19.1)\n",
      "Requirement already satisfied: matplotlib-inline in ./.snakemake/conda/cb1bd2082bdba68394676156cfbae5c8_/lib/python3.12/site-packages (from ipython>=6.1.0->ipywidgets>=7.6.0->anywidget>=0.9.0->altair[all]) (0.1.7)\n",
      "Requirement already satisfied: prompt-toolkit<3.1.0,>=3.0.41 in ./.snakemake/conda/cb1bd2082bdba68394676156cfbae5c8_/lib/python3.12/site-packages (from ipython>=6.1.0->ipywidgets>=7.6.0->anywidget>=0.9.0->altair[all]) (3.0.47)\n",
      "Requirement already satisfied: pygments>=2.4.0 in ./.snakemake/conda/cb1bd2082bdba68394676156cfbae5c8_/lib/python3.12/site-packages (from ipython>=6.1.0->ipywidgets>=7.6.0->anywidget>=0.9.0->altair[all]) (2.18.0)\n",
      "Requirement already satisfied: stack-data in ./.snakemake/conda/cb1bd2082bdba68394676156cfbae5c8_/lib/python3.12/site-packages (from ipython>=6.1.0->ipywidgets>=7.6.0->anywidget>=0.9.0->altair[all]) (0.6.2)\n",
      "Requirement already satisfied: pexpect>4.3 in ./.snakemake/conda/cb1bd2082bdba68394676156cfbae5c8_/lib/python3.12/site-packages (from ipython>=6.1.0->ipywidgets>=7.6.0->anywidget>=0.9.0->altair[all]) (4.9.0)\n",
      "Requirement already satisfied: parso<0.9.0,>=0.8.3 in ./.snakemake/conda/cb1bd2082bdba68394676156cfbae5c8_/lib/python3.12/site-packages (from jedi>=0.16->ipython>=6.1.0->ipywidgets>=7.6.0->anywidget>=0.9.0->altair[all]) (0.8.4)\n",
      "Requirement already satisfied: ptyprocess>=0.5 in ./.snakemake/conda/cb1bd2082bdba68394676156cfbae5c8_/lib/python3.12/site-packages (from pexpect>4.3->ipython>=6.1.0->ipywidgets>=7.6.0->anywidget>=0.9.0->altair[all]) (0.7.0)\n",
      "Requirement already satisfied: wcwidth in ./.snakemake/conda/cb1bd2082bdba68394676156cfbae5c8_/lib/python3.12/site-packages (from prompt-toolkit<3.1.0,>=3.0.41->ipython>=6.1.0->ipywidgets>=7.6.0->anywidget>=0.9.0->altair[all]) (0.2.13)\n",
      "Requirement already satisfied: executing>=1.2.0 in ./.snakemake/conda/cb1bd2082bdba68394676156cfbae5c8_/lib/python3.12/site-packages (from stack-data->ipython>=6.1.0->ipywidgets>=7.6.0->anywidget>=0.9.0->altair[all]) (2.0.1)\n",
      "Requirement already satisfied: asttokens>=2.1.0 in ./.snakemake/conda/cb1bd2082bdba68394676156cfbae5c8_/lib/python3.12/site-packages (from stack-data->ipython>=6.1.0->ipywidgets>=7.6.0->anywidget>=0.9.0->altair[all]) (2.4.1)\n",
      "Requirement already satisfied: pure-eval in ./.snakemake/conda/cb1bd2082bdba68394676156cfbae5c8_/lib/python3.12/site-packages (from stack-data->ipython>=6.1.0->ipywidgets>=7.6.0->anywidget>=0.9.0->altair[all]) (0.2.3)\n",
      "Downloading altair_tiles-0.3.0-py3-none-any.whl (8.7 kB)\n",
      "Downloading anywidget-0.9.13-py3-none-any.whl (213 kB)\n",
      "Downloading pandas-2.2.2-cp312-cp312-manylinux_2_17_x86_64.manylinux2014_x86_64.whl (12.7 MB)\n",
      "\u001b[2K   \u001b[38;2;114;156;31m━━━━━━━━━━━━━━━━━━━━━━━━━━━━━━━━━━━━━━━━\u001b[0m \u001b[32m12.7/12.7 MB\u001b[0m \u001b[31m5.5 MB/s\u001b[0m eta \u001b[36m0:00:00\u001b[0m0m eta \u001b[36m0:00:01\u001b[0m0:01\u001b[0m01\u001b[0m\n",
      "\u001b[?25hDownloading numpy-2.0.1-cp312-cp312-manylinux_2_17_x86_64.manylinux2014_x86_64.whl (19.2 MB)\n",
      "\u001b[2K   \u001b[38;2;114;156;31m━━━━━━━━━━━━━━━━━━━━━━━━━━━━━━━━━━━━━━━━\u001b[0m \u001b[32m19.2/19.2 MB\u001b[0m \u001b[31m5.6 MB/s\u001b[0m eta \u001b[36m0:00:00\u001b[0m0m eta \u001b[36m0:00:01\u001b[0m[36m0:00:01\u001b[0m\n",
      "\u001b[?25hDownloading pyarrow-17.0.0-cp312-cp312-manylinux_2_28_x86_64.whl (39.9 MB)\n",
      "\u001b[2K   \u001b[38;2;114;156;31m━━━━━━━━━━━━━━━━━━━━━━━━━━━━━━━━━━━━━━━━\u001b[0m \u001b[32m39.9/39.9 MB\u001b[0m \u001b[31m5.3 MB/s\u001b[0m eta \u001b[36m0:00:00\u001b[0m0m eta \u001b[36m0:00:01\u001b[0m[36m0:00:01\u001b[0m\n",
      "\u001b[?25hDownloading vega_datasets-0.9.0-py3-none-any.whl (210 kB)\n",
      "Downloading vegafusion-1.6.9-py3-none-any.whl (54 kB)\n",
      "Downloading altair-5.3.0-py3-none-any.whl (857 kB)\n",
      "\u001b[2K   \u001b[38;2;114;156;31m━━━━━━━━━━━━━━━━━━━━━━━━━━━━━━━━━━━━━━━━\u001b[0m \u001b[32m857.8/857.8 kB\u001b[0m \u001b[31m2.3 MB/s\u001b[0m eta \u001b[36m0:00:00\u001b[0m[31m11.5 MB/s\u001b[0m eta \u001b[36m0:00:01\u001b[0m\n",
      "\u001b[?25hDownloading vegafusion_python_embed-1.6.9-cp38-abi3-manylinux_2_17_x86_64.manylinux2014_x86_64.whl (25.1 MB)\n",
      "\u001b[2K   \u001b[38;2;114;156;31m━━━━━━━━━━━━━━━━━━━━━━━━━━━━━━━━━━━━━━━━\u001b[0m \u001b[32m25.1/25.1 MB\u001b[0m \u001b[31m2.4 MB/s\u001b[0m eta \u001b[36m0:00:00\u001b[0mm eta \u001b[36m0:00:01\u001b[0m0:01\u001b[0m:01\u001b[0m\n",
      "\u001b[?25hDownloading vl_convert_python-1.5.1-cp37-abi3-manylinux_2_17_x86_64.manylinux2014_x86_64.whl (29.4 MB)\n",
      "\u001b[2K   \u001b[38;2;114;156;31m━━━━━━━━━━━━━━━━━━━━━━━━━━━━━━━━━━━━━━━━\u001b[0m \u001b[32m29.4/29.4 MB\u001b[0m \u001b[31m2.7 MB/s\u001b[0m eta \u001b[36m0:00:00\u001b[0mm eta \u001b[36m0:00:01\u001b[0m0:01\u001b[0m:01\u001b[0m\n",
      "\u001b[?25hDownloading toolz-0.12.1-py3-none-any.whl (56 kB)\n",
      "Downloading psygnal-0.11.1-cp312-cp312-manylinux_2_17_x86_64.manylinux2014_x86_64.whl (743 kB)\n",
      "\u001b[2K   \u001b[38;2;114;156;31m━━━━━━━━━━━━━━━━━━━━━━━━━━━━━━━━━━━━━━━━\u001b[0m \u001b[32m743.8/743.8 kB\u001b[0m \u001b[31m1.3 MB/s\u001b[0m eta \u001b[36m0:00:00\u001b[0m5 MB/s\u001b[0m eta \u001b[36m0:00:01\u001b[0m\n",
      "\u001b[?25hUsing cached tzdata-2024.1-py2.py3-none-any.whl (345 kB)\n",
      "Downloading mercantile-1.2.1-py3-none-any.whl (14 kB)\n",
      "Downloading protobuf-5.27.3-cp38-abi3-manylinux2014_x86_64.whl (309 kB)\n",
      "Downloading xyzservices-2024.6.0-py3-none-any.whl (83 kB)\n",
      "Using cached click-8.1.7-py3-none-any.whl (97 kB)\n",
      "Installing collected packages: vegafusion-python-embed, xyzservices, vl-convert-python, tzdata, toolz, psygnal, protobuf, numpy, click, pyarrow, pandas, mercantile, vega-datasets, altair, vegafusion, anywidget, altair-tiles\n",
      "Successfully installed altair-5.3.0 altair-tiles-0.3.0 anywidget-0.9.13 click-8.1.7 mercantile-1.2.1 numpy-2.0.1 pandas-2.2.2 protobuf-5.27.3 psygnal-0.11.1 pyarrow-17.0.0 toolz-0.12.1 tzdata-2024.1 vega-datasets-0.9.0 vegafusion-1.6.9 vegafusion-python-embed-1.6.9 vl-convert-python-1.5.1 xyzservices-2024.6.0\n",
      "Note: you may need to restart the kernel to use updated packages.\n"
     ]
    }
   ],
   "source": [
    "%pip install 'altair[all]'"
   ]
  },
  {
   "cell_type": "code",
   "execution_count": 11,
   "id": "c3de098d",
   "metadata": {},
   "outputs": [],
   "source": [
    "import json\n",
    "import re\n",
    "\n",
    "import altair as alt\n",
    "import polars as pl\n",
    "import polars.selectors as cs\n",
    "from snakemake.script import snakemake"
   ]
  },
  {
   "cell_type": "code",
   "execution_count": 3,
   "id": "9a8e7957",
   "metadata": {},
   "outputs": [
    {
     "data": {
      "text/html": [
       "<div><style>\n",
       ".dataframe > thead > tr,\n",
       ".dataframe > tbody > tr {\n",
       "  text-align: right;\n",
       "  white-space: pre-wrap;\n",
       "}\n",
       "</style>\n",
       "<small>shape: (18, 7)</small><table border=\"1\" class=\"dataframe\"><thead><tr><th>f1</th><th>recall</th><th>precision</th><th>sample</th><th>aligner</th><th>caller</th><th>svtype</th></tr><tr><td>f64</td><td>f64</td><td>f64</td><td>str</td><td>str</td><td>str</td><td>str</td></tr></thead><tbody><tr><td>0.370741</td><td>0.245905</td><td>0.753016</td><td>&quot;HG002&quot;</td><td>&quot;bwa-mem2&quot;</td><td>&quot;delly&quot;</td><td>&quot;ALL&quot;</td></tr><tr><td>0.649607</td><td>0.540566</td><td>0.813754</td><td>&quot;HG002&quot;</td><td>&quot;bwa-mem2&quot;</td><td>&quot;delly&quot;</td><td>&quot;DEL&quot;</td></tr><tr><td>0.036082</td><td>0.018372</td><td>1.0</td><td>&quot;HG002&quot;</td><td>&quot;bwa-mem2&quot;</td><td>&quot;delly&quot;</td><td>&quot;INS&quot;</td></tr><tr><td>0.50857</td><td>0.392183</td><td>0.723189</td><td>&quot;HG002&quot;</td><td>&quot;bwa-mem2&quot;</td><td>&quot;dysgu&quot;</td><td>&quot;ALL&quot;</td></tr><tr><td>0.78073</td><td>0.674756</td><td>0.926192</td><td>&quot;HG002&quot;</td><td>&quot;bwa-mem2&quot;</td><td>&quot;dysgu&quot;</td><td>&quot;DEL&quot;</td></tr><tr><td>&hellip;</td><td>&hellip;</td><td>&hellip;</td><td>&hellip;</td><td>&hellip;</td><td>&hellip;</td><td>&hellip;</td></tr><tr><td>0.777304</td><td>0.694266</td><td>0.882905</td><td>&quot;HG002&quot;</td><td>&quot;novoalign&quot;</td><td>&quot;dysgu&quot;</td><td>&quot;DEL&quot;</td></tr><tr><td>0.284124</td><td>0.20632</td><td>0.456133</td><td>&quot;HG002&quot;</td><td>&quot;novoalign&quot;</td><td>&quot;dysgu&quot;</td><td>&quot;INS&quot;</td></tr><tr><td>0.571953</td><td>0.420278</td><td>0.894923</td><td>&quot;HG002&quot;</td><td>&quot;novoalign&quot;</td><td>&quot;manta&quot;</td><td>&quot;ALL&quot;</td></tr><tr><td>0.785477</td><td>0.67428</td><td>0.940591</td><td>&quot;HG002&quot;</td><td>&quot;novoalign&quot;</td><td>&quot;manta&quot;</td><td>&quot;DEL&quot;</td></tr><tr><td>0.363582</td><td>0.224141</td><td>0.962145</td><td>&quot;HG002&quot;</td><td>&quot;novoalign&quot;</td><td>&quot;manta&quot;</td><td>&quot;INS&quot;</td></tr></tbody></table></div>"
      ],
      "text/plain": [
       "shape: (18, 7)\n",
       "┌──────────┬──────────┬───────────┬────────┬───────────┬────────┬────────┐\n",
       "│ f1       ┆ recall   ┆ precision ┆ sample ┆ aligner   ┆ caller ┆ svtype │\n",
       "│ ---      ┆ ---      ┆ ---       ┆ ---    ┆ ---       ┆ ---    ┆ ---    │\n",
       "│ f64      ┆ f64      ┆ f64       ┆ str    ┆ str       ┆ str    ┆ str    │\n",
       "╞══════════╪══════════╪═══════════╪════════╪═══════════╪════════╪════════╡\n",
       "│ 0.370741 ┆ 0.245905 ┆ 0.753016  ┆ HG002  ┆ bwa-mem2  ┆ delly  ┆ ALL    │\n",
       "│ 0.649607 ┆ 0.540566 ┆ 0.813754  ┆ HG002  ┆ bwa-mem2  ┆ delly  ┆ DEL    │\n",
       "│ 0.036082 ┆ 0.018372 ┆ 1.0       ┆ HG002  ┆ bwa-mem2  ┆ delly  ┆ INS    │\n",
       "│ 0.50857  ┆ 0.392183 ┆ 0.723189  ┆ HG002  ┆ bwa-mem2  ┆ dysgu  ┆ ALL    │\n",
       "│ 0.78073  ┆ 0.674756 ┆ 0.926192  ┆ HG002  ┆ bwa-mem2  ┆ dysgu  ┆ DEL    │\n",
       "│ …        ┆ …        ┆ …         ┆ …      ┆ …         ┆ …      ┆ …      │\n",
       "│ 0.777304 ┆ 0.694266 ┆ 0.882905  ┆ HG002  ┆ novoalign ┆ dysgu  ┆ DEL    │\n",
       "│ 0.284124 ┆ 0.20632  ┆ 0.456133  ┆ HG002  ┆ novoalign ┆ dysgu  ┆ INS    │\n",
       "│ 0.571953 ┆ 0.420278 ┆ 0.894923  ┆ HG002  ┆ novoalign ┆ manta  ┆ ALL    │\n",
       "│ 0.785477 ┆ 0.67428  ┆ 0.940591  ┆ HG002  ┆ novoalign ┆ manta  ┆ DEL    │\n",
       "│ 0.363582 ┆ 0.224141 ┆ 0.962145  ┆ HG002  ┆ novoalign ┆ manta  ┆ INS    │\n",
       "└──────────┴──────────┴───────────┴────────┴───────────┴────────┴────────┘"
      ]
     },
     "execution_count": 3,
     "metadata": {},
     "output_type": "execute_result"
    }
   ],
   "source": [
    "records = []\n",
    "\n",
    "for bench_file in snakemake.input:\n",
    "    record = {}\n",
    "\n",
    "    data = json.load(open(bench_file))\n",
    "\n",
    "    record[\"f1\"] = data[\"f1\"]\n",
    "    record[\"recall\"] = data[\"recall\"]\n",
    "    record[\"precision\"] = data[\"precision\"]\n",
    "\n",
    "    record[\"sample\"], record[\"aligner\"], record[\"caller\"], record[\"svtype\"] = re.search(\n",
    "        r\"(\\w+).([\\w\\-_]+).(\\w+).(ALL|DEL|INS).truvari-bench\", bench_file\n",
    "    ).groups()\n",
    "\n",
    "    records.append(record)\n",
    "\n",
    "benchmark_df = pl.DataFrame(records)\n",
    "\n",
    "benchmark_df"
   ]
  },
  {
   "cell_type": "code",
   "execution_count": 4,
   "id": "12074e75",
   "metadata": {},
   "outputs": [
    {
     "data": {
      "text/html": [
       "<div><style>\n",
       ".dataframe > thead > tr,\n",
       ".dataframe > tbody > tr {\n",
       "  text-align: right;\n",
       "  white-space: pre-wrap;\n",
       "}\n",
       "</style>\n",
       "<small>shape: (6, 7)</small><table border=\"1\" class=\"dataframe\"><thead><tr><th>f1</th><th>recall</th><th>precision</th><th>sample</th><th>aligner</th><th>caller</th><th>svtype</th></tr><tr><td>f64</td><td>f64</td><td>f64</td><td>str</td><td>str</td><td>str</td><td>str</td></tr></thead><tbody><tr><td>0.370741</td><td>0.245905</td><td>0.753016</td><td>&quot;HG002&quot;</td><td>&quot;bwa-mem2&quot;</td><td>&quot;delly&quot;</td><td>&quot;ALL&quot;</td></tr><tr><td>0.50857</td><td>0.392183</td><td>0.723189</td><td>&quot;HG002&quot;</td><td>&quot;bwa-mem2&quot;</td><td>&quot;dysgu&quot;</td><td>&quot;ALL&quot;</td></tr><tr><td>0.536922</td><td>0.383682</td><td>0.893961</td><td>&quot;HG002&quot;</td><td>&quot;bwa-mem2&quot;</td><td>&quot;manta&quot;</td><td>&quot;ALL&quot;</td></tr><tr><td>0.430774</td><td>0.295459</td><td>0.794757</td><td>&quot;HG002&quot;</td><td>&quot;novoalign&quot;</td><td>&quot;delly&quot;</td><td>&quot;ALL&quot;</td></tr><tr><td>0.51246</td><td>0.41893</td><td>0.659755</td><td>&quot;HG002&quot;</td><td>&quot;novoalign&quot;</td><td>&quot;dysgu&quot;</td><td>&quot;ALL&quot;</td></tr><tr><td>0.571953</td><td>0.420278</td><td>0.894923</td><td>&quot;HG002&quot;</td><td>&quot;novoalign&quot;</td><td>&quot;manta&quot;</td><td>&quot;ALL&quot;</td></tr></tbody></table></div>"
      ],
      "text/plain": [
       "shape: (6, 7)\n",
       "┌──────────┬──────────┬───────────┬────────┬───────────┬────────┬────────┐\n",
       "│ f1       ┆ recall   ┆ precision ┆ sample ┆ aligner   ┆ caller ┆ svtype │\n",
       "│ ---      ┆ ---      ┆ ---       ┆ ---    ┆ ---       ┆ ---    ┆ ---    │\n",
       "│ f64      ┆ f64      ┆ f64       ┆ str    ┆ str       ┆ str    ┆ str    │\n",
       "╞══════════╪══════════╪═══════════╪════════╪═══════════╪════════╪════════╡\n",
       "│ 0.370741 ┆ 0.245905 ┆ 0.753016  ┆ HG002  ┆ bwa-mem2  ┆ delly  ┆ ALL    │\n",
       "│ 0.50857  ┆ 0.392183 ┆ 0.723189  ┆ HG002  ┆ bwa-mem2  ┆ dysgu  ┆ ALL    │\n",
       "│ 0.536922 ┆ 0.383682 ┆ 0.893961  ┆ HG002  ┆ bwa-mem2  ┆ manta  ┆ ALL    │\n",
       "│ 0.430774 ┆ 0.295459 ┆ 0.794757  ┆ HG002  ┆ novoalign ┆ delly  ┆ ALL    │\n",
       "│ 0.51246  ┆ 0.41893  ┆ 0.659755  ┆ HG002  ┆ novoalign ┆ dysgu  ┆ ALL    │\n",
       "│ 0.571953 ┆ 0.420278 ┆ 0.894923  ┆ HG002  ┆ novoalign ┆ manta  ┆ ALL    │\n",
       "└──────────┴──────────┴───────────┴────────┴───────────┴────────┴────────┘"
      ]
     },
     "execution_count": 4,
     "metadata": {},
     "output_type": "execute_result"
    }
   ],
   "source": [
    "benchmark_all = benchmark_df.filter(pl.col(\"svtype\") == \"ALL\")\n",
    "benchmark_all"
   ]
  },
  {
   "cell_type": "code",
   "execution_count": 12,
   "id": "3c33d4f8",
   "metadata": {},
   "outputs": [
    {
     "data": {
      "text/html": [
       "<div><style>\n",
       ".dataframe > thead > tr,\n",
       ".dataframe > tbody > tr {\n",
       "  text-align: right;\n",
       "  white-space: pre-wrap;\n",
       "}\n",
       "</style>\n",
       "<small>shape: (18, 6)</small><table border=\"1\" class=\"dataframe\"><thead><tr><th>sample</th><th>aligner</th><th>caller</th><th>svtype</th><th>variable</th><th>value</th></tr><tr><td>str</td><td>str</td><td>str</td><td>str</td><td>str</td><td>f64</td></tr></thead><tbody><tr><td>&quot;HG002&quot;</td><td>&quot;bwa-mem2&quot;</td><td>&quot;delly&quot;</td><td>&quot;ALL&quot;</td><td>&quot;f1&quot;</td><td>0.370741</td></tr><tr><td>&quot;HG002&quot;</td><td>&quot;bwa-mem2&quot;</td><td>&quot;dysgu&quot;</td><td>&quot;ALL&quot;</td><td>&quot;f1&quot;</td><td>0.50857</td></tr><tr><td>&quot;HG002&quot;</td><td>&quot;bwa-mem2&quot;</td><td>&quot;manta&quot;</td><td>&quot;ALL&quot;</td><td>&quot;f1&quot;</td><td>0.536922</td></tr><tr><td>&quot;HG002&quot;</td><td>&quot;novoalign&quot;</td><td>&quot;delly&quot;</td><td>&quot;ALL&quot;</td><td>&quot;f1&quot;</td><td>0.430774</td></tr><tr><td>&quot;HG002&quot;</td><td>&quot;novoalign&quot;</td><td>&quot;dysgu&quot;</td><td>&quot;ALL&quot;</td><td>&quot;f1&quot;</td><td>0.51246</td></tr><tr><td>&hellip;</td><td>&hellip;</td><td>&hellip;</td><td>&hellip;</td><td>&hellip;</td><td>&hellip;</td></tr><tr><td>&quot;HG002&quot;</td><td>&quot;bwa-mem2&quot;</td><td>&quot;dysgu&quot;</td><td>&quot;ALL&quot;</td><td>&quot;precision&quot;</td><td>0.723189</td></tr><tr><td>&quot;HG002&quot;</td><td>&quot;bwa-mem2&quot;</td><td>&quot;manta&quot;</td><td>&quot;ALL&quot;</td><td>&quot;precision&quot;</td><td>0.893961</td></tr><tr><td>&quot;HG002&quot;</td><td>&quot;novoalign&quot;</td><td>&quot;delly&quot;</td><td>&quot;ALL&quot;</td><td>&quot;precision&quot;</td><td>0.794757</td></tr><tr><td>&quot;HG002&quot;</td><td>&quot;novoalign&quot;</td><td>&quot;dysgu&quot;</td><td>&quot;ALL&quot;</td><td>&quot;precision&quot;</td><td>0.659755</td></tr><tr><td>&quot;HG002&quot;</td><td>&quot;novoalign&quot;</td><td>&quot;manta&quot;</td><td>&quot;ALL&quot;</td><td>&quot;precision&quot;</td><td>0.894923</td></tr></tbody></table></div>"
      ],
      "text/plain": [
       "shape: (18, 6)\n",
       "┌────────┬───────────┬────────┬────────┬───────────┬──────────┐\n",
       "│ sample ┆ aligner   ┆ caller ┆ svtype ┆ variable  ┆ value    │\n",
       "│ ---    ┆ ---       ┆ ---    ┆ ---    ┆ ---       ┆ ---      │\n",
       "│ str    ┆ str       ┆ str    ┆ str    ┆ str       ┆ f64      │\n",
       "╞════════╪═══════════╪════════╪════════╪═══════════╪══════════╡\n",
       "│ HG002  ┆ bwa-mem2  ┆ delly  ┆ ALL    ┆ f1        ┆ 0.370741 │\n",
       "│ HG002  ┆ bwa-mem2  ┆ dysgu  ┆ ALL    ┆ f1        ┆ 0.50857  │\n",
       "│ HG002  ┆ bwa-mem2  ┆ manta  ┆ ALL    ┆ f1        ┆ 0.536922 │\n",
       "│ HG002  ┆ novoalign ┆ delly  ┆ ALL    ┆ f1        ┆ 0.430774 │\n",
       "│ HG002  ┆ novoalign ┆ dysgu  ┆ ALL    ┆ f1        ┆ 0.51246  │\n",
       "│ …      ┆ …         ┆ …      ┆ …      ┆ …         ┆ …        │\n",
       "│ HG002  ┆ bwa-mem2  ┆ dysgu  ┆ ALL    ┆ precision ┆ 0.723189 │\n",
       "│ HG002  ┆ bwa-mem2  ┆ manta  ┆ ALL    ┆ precision ┆ 0.893961 │\n",
       "│ HG002  ┆ novoalign ┆ delly  ┆ ALL    ┆ precision ┆ 0.794757 │\n",
       "│ HG002  ┆ novoalign ┆ dysgu  ┆ ALL    ┆ precision ┆ 0.659755 │\n",
       "│ HG002  ┆ novoalign ┆ manta  ┆ ALL    ┆ precision ┆ 0.894923 │\n",
       "└────────┴───────────┴────────┴────────┴───────────┴──────────┘"
      ]
     },
     "execution_count": 12,
     "metadata": {},
     "output_type": "execute_result"
    }
   ],
   "source": [
    "benchmark_all.unpivot(on=cs.numeric(), index=[\"sample\", \"aligner\", \"caller\", \"svtype\"])"
   ]
  },
  {
   "cell_type": "code",
   "execution_count": 13,
   "id": "8d53787b",
   "metadata": {},
   "outputs": [
    {
     "data": {
      "text/html": [
       "<div><style>\n",
       ".dataframe > thead > tr,\n",
       ".dataframe > tbody > tr {\n",
       "  text-align: right;\n",
       "  white-space: pre-wrap;\n",
       "}\n",
       "</style>\n",
       "<small>shape: (54, 6)</small><table border=\"1\" class=\"dataframe\"><thead><tr><th>sample</th><th>aligner</th><th>caller</th><th>svtype</th><th>variable</th><th>value</th></tr><tr><td>str</td><td>str</td><td>str</td><td>str</td><td>str</td><td>f64</td></tr></thead><tbody><tr><td>&quot;HG002&quot;</td><td>&quot;bwa-mem2&quot;</td><td>&quot;delly&quot;</td><td>&quot;ALL&quot;</td><td>&quot;f1&quot;</td><td>0.370741</td></tr><tr><td>&quot;HG002&quot;</td><td>&quot;bwa-mem2&quot;</td><td>&quot;delly&quot;</td><td>&quot;DEL&quot;</td><td>&quot;f1&quot;</td><td>0.649607</td></tr><tr><td>&quot;HG002&quot;</td><td>&quot;bwa-mem2&quot;</td><td>&quot;delly&quot;</td><td>&quot;INS&quot;</td><td>&quot;f1&quot;</td><td>0.036082</td></tr><tr><td>&quot;HG002&quot;</td><td>&quot;bwa-mem2&quot;</td><td>&quot;dysgu&quot;</td><td>&quot;ALL&quot;</td><td>&quot;f1&quot;</td><td>0.50857</td></tr><tr><td>&quot;HG002&quot;</td><td>&quot;bwa-mem2&quot;</td><td>&quot;dysgu&quot;</td><td>&quot;DEL&quot;</td><td>&quot;f1&quot;</td><td>0.78073</td></tr><tr><td>&hellip;</td><td>&hellip;</td><td>&hellip;</td><td>&hellip;</td><td>&hellip;</td><td>&hellip;</td></tr><tr><td>&quot;HG002&quot;</td><td>&quot;novoalign&quot;</td><td>&quot;dysgu&quot;</td><td>&quot;DEL&quot;</td><td>&quot;precision&quot;</td><td>0.882905</td></tr><tr><td>&quot;HG002&quot;</td><td>&quot;novoalign&quot;</td><td>&quot;dysgu&quot;</td><td>&quot;INS&quot;</td><td>&quot;precision&quot;</td><td>0.456133</td></tr><tr><td>&quot;HG002&quot;</td><td>&quot;novoalign&quot;</td><td>&quot;manta&quot;</td><td>&quot;ALL&quot;</td><td>&quot;precision&quot;</td><td>0.894923</td></tr><tr><td>&quot;HG002&quot;</td><td>&quot;novoalign&quot;</td><td>&quot;manta&quot;</td><td>&quot;DEL&quot;</td><td>&quot;precision&quot;</td><td>0.940591</td></tr><tr><td>&quot;HG002&quot;</td><td>&quot;novoalign&quot;</td><td>&quot;manta&quot;</td><td>&quot;INS&quot;</td><td>&quot;precision&quot;</td><td>0.962145</td></tr></tbody></table></div>"
      ],
      "text/plain": [
       "shape: (54, 6)\n",
       "┌────────┬───────────┬────────┬────────┬───────────┬──────────┐\n",
       "│ sample ┆ aligner   ┆ caller ┆ svtype ┆ variable  ┆ value    │\n",
       "│ ---    ┆ ---       ┆ ---    ┆ ---    ┆ ---       ┆ ---      │\n",
       "│ str    ┆ str       ┆ str    ┆ str    ┆ str       ┆ f64      │\n",
       "╞════════╪═══════════╪════════╪════════╪═══════════╪══════════╡\n",
       "│ HG002  ┆ bwa-mem2  ┆ delly  ┆ ALL    ┆ f1        ┆ 0.370741 │\n",
       "│ HG002  ┆ bwa-mem2  ┆ delly  ┆ DEL    ┆ f1        ┆ 0.649607 │\n",
       "│ HG002  ┆ bwa-mem2  ┆ delly  ┆ INS    ┆ f1        ┆ 0.036082 │\n",
       "│ HG002  ┆ bwa-mem2  ┆ dysgu  ┆ ALL    ┆ f1        ┆ 0.50857  │\n",
       "│ HG002  ┆ bwa-mem2  ┆ dysgu  ┆ DEL    ┆ f1        ┆ 0.78073  │\n",
       "│ …      ┆ …         ┆ …      ┆ …      ┆ …         ┆ …        │\n",
       "│ HG002  ┆ novoalign ┆ dysgu  ┆ DEL    ┆ precision ┆ 0.882905 │\n",
       "│ HG002  ┆ novoalign ┆ dysgu  ┆ INS    ┆ precision ┆ 0.456133 │\n",
       "│ HG002  ┆ novoalign ┆ manta  ┆ ALL    ┆ precision ┆ 0.894923 │\n",
       "│ HG002  ┆ novoalign ┆ manta  ┆ DEL    ┆ precision ┆ 0.940591 │\n",
       "│ HG002  ┆ novoalign ┆ manta  ┆ INS    ┆ precision ┆ 0.962145 │\n",
       "└────────┴───────────┴────────┴────────┴───────────┴──────────┘"
      ]
     },
     "execution_count": 13,
     "metadata": {},
     "output_type": "execute_result"
    }
   ],
   "source": [
    "benchmark_df_long = benchmark_df.unpivot(\n",
    "    on=cs.numeric(), index=[\"sample\", \"aligner\", \"caller\", \"svtype\"]\n",
    ")\n",
    "\n",
    "benchmark_df_long"
   ]
  },
  {
   "cell_type": "code",
   "execution_count": 18,
   "id": "4ec2f37d",
   "metadata": {},
   "outputs": [
    {
     "data": {
      "text/html": [
       "\n",
       "<style>\n",
       "  #altair-viz-c03f74c292824a82b3c16d93d1290095.vega-embed {\n",
       "    width: 100%;\n",
       "    display: flex;\n",
       "  }\n",
       "\n",
       "  #altair-viz-c03f74c292824a82b3c16d93d1290095.vega-embed details,\n",
       "  #altair-viz-c03f74c292824a82b3c16d93d1290095.vega-embed details summary {\n",
       "    position: relative;\n",
       "  }\n",
       "</style>\n",
       "<div id=\"altair-viz-c03f74c292824a82b3c16d93d1290095\"></div>\n",
       "<script type=\"text/javascript\">\n",
       "  var VEGA_DEBUG = (typeof VEGA_DEBUG == \"undefined\") ? {} : VEGA_DEBUG;\n",
       "  (function(spec, embedOpt){\n",
       "    let outputDiv = document.currentScript.previousElementSibling;\n",
       "    if (outputDiv.id !== \"altair-viz-c03f74c292824a82b3c16d93d1290095\") {\n",
       "      outputDiv = document.getElementById(\"altair-viz-c03f74c292824a82b3c16d93d1290095\");\n",
       "    }\n",
       "    const paths = {\n",
       "      \"vega\": \"https://cdn.jsdelivr.net/npm/vega@5?noext\",\n",
       "      \"vega-lib\": \"https://cdn.jsdelivr.net/npm/vega-lib?noext\",\n",
       "      \"vega-lite\": \"https://cdn.jsdelivr.net/npm/vega-lite@5.17.0?noext\",\n",
       "      \"vega-embed\": \"https://cdn.jsdelivr.net/npm/vega-embed@6?noext\",\n",
       "    };\n",
       "\n",
       "    function maybeLoadScript(lib, version) {\n",
       "      var key = `${lib.replace(\"-\", \"\")}_version`;\n",
       "      return (VEGA_DEBUG[key] == version) ?\n",
       "        Promise.resolve(paths[lib]) :\n",
       "        new Promise(function(resolve, reject) {\n",
       "          var s = document.createElement('script');\n",
       "          document.getElementsByTagName(\"head\")[0].appendChild(s);\n",
       "          s.async = true;\n",
       "          s.onload = () => {\n",
       "            VEGA_DEBUG[key] = version;\n",
       "            return resolve(paths[lib]);\n",
       "          };\n",
       "          s.onerror = () => reject(`Error loading script: ${paths[lib]}`);\n",
       "          s.src = paths[lib];\n",
       "        });\n",
       "    }\n",
       "\n",
       "    function showError(err) {\n",
       "      outputDiv.innerHTML = `<div class=\"error\" style=\"color:red;\">${err}</div>`;\n",
       "      throw err;\n",
       "    }\n",
       "\n",
       "    function displayChart(vegaEmbed) {\n",
       "      vegaEmbed(outputDiv, spec, embedOpt)\n",
       "        .catch(err => showError(`Javascript Error: ${err.message}<br>This usually means there's a typo in your chart specification. See the javascript console for the full traceback.`));\n",
       "    }\n",
       "\n",
       "    if(typeof define === \"function\" && define.amd) {\n",
       "      requirejs.config({paths});\n",
       "      require([\"vega-embed\"], displayChart, err => showError(`Error loading script: ${err.message}`));\n",
       "    } else {\n",
       "      maybeLoadScript(\"vega\", \"5\")\n",
       "        .then(() => maybeLoadScript(\"vega-lite\", \"5.17.0\"))\n",
       "        .then(() => maybeLoadScript(\"vega-embed\", \"6\"))\n",
       "        .catch(showError)\n",
       "        .then(() => displayChart(vegaEmbed));\n",
       "    }\n",
       "  })({\"config\": {\"view\": {\"continuousWidth\": 300, \"continuousHeight\": 300}}, \"data\": {\"name\": \"data-9ebfb1d1c971bf1cb8df1ff8263e55cb\"}, \"mark\": {\"type\": \"bar\"}, \"encoding\": {\"color\": {\"field\": \"aligner\", \"type\": \"nominal\"}, \"column\": {\"field\": \"svtype\", \"type\": \"nominal\"}, \"row\": {\"field\": \"variable\", \"type\": \"nominal\"}, \"x\": {\"field\": \"caller\", \"type\": \"nominal\"}, \"xOffset\": {\"field\": \"aligner\", \"type\": \"nominal\"}, \"y\": {\"field\": \"value\", \"type\": \"quantitative\"}}, \"$schema\": \"https://vega.github.io/schema/vega-lite/v5.17.0.json\", \"datasets\": {\"data-9ebfb1d1c971bf1cb8df1ff8263e55cb\": [{\"sample\": \"HG002\", \"aligner\": \"bwa-mem2\", \"caller\": \"delly\", \"svtype\": \"ALL\", \"variable\": \"f1\", \"value\": 0.3707408565176617}, {\"sample\": \"HG002\", \"aligner\": \"bwa-mem2\", \"caller\": \"delly\", \"svtype\": \"DEL\", \"variable\": \"f1\", \"value\": 0.6496068620443174}, {\"sample\": \"HG002\", \"aligner\": \"bwa-mem2\", \"caller\": \"delly\", \"svtype\": \"INS\", \"variable\": \"f1\", \"value\": 0.036081544290095614}, {\"sample\": \"HG002\", \"aligner\": \"bwa-mem2\", \"caller\": \"dysgu\", \"svtype\": \"ALL\", \"variable\": \"f1\", \"value\": 0.5085702762653761}, {\"sample\": \"HG002\", \"aligner\": \"bwa-mem2\", \"caller\": \"dysgu\", \"svtype\": \"DEL\", \"variable\": \"f1\", \"value\": 0.7807295251204406}, {\"sample\": \"HG002\", \"aligner\": \"bwa-mem2\", \"caller\": \"dysgu\", \"svtype\": \"INS\", \"variable\": \"f1\", \"value\": 0.2594876010412385}, {\"sample\": \"HG002\", \"aligner\": \"bwa-mem2\", \"caller\": \"manta\", \"svtype\": \"ALL\", \"variable\": \"f1\", \"value\": 0.5369215145800087}, {\"sample\": \"HG002\", \"aligner\": \"bwa-mem2\", \"caller\": \"manta\", \"svtype\": \"DEL\", \"variable\": \"f1\", \"value\": 0.7556374982272019}, {\"sample\": \"HG002\", \"aligner\": \"bwa-mem2\", \"caller\": \"manta\", \"svtype\": \"INS\", \"variable\": \"f1\", \"value\": 0.31775700934579443}, {\"sample\": \"HG002\", \"aligner\": \"novoalign\", \"caller\": \"delly\", \"svtype\": \"ALL\", \"variable\": \"f1\", \"value\": 0.4307738814993954}, {\"sample\": \"HG002\", \"aligner\": \"novoalign\", \"caller\": \"delly\", \"svtype\": \"DEL\", \"variable\": \"f1\", \"value\": 0.7200540175557056}, {\"sample\": \"HG002\", \"aligner\": \"novoalign\", \"caller\": \"delly\", \"svtype\": \"INS\", \"variable\": \"f1\", \"value\": 0.06532930942659329}, {\"sample\": \"HG002\", \"aligner\": \"novoalign\", \"caller\": \"dysgu\", \"svtype\": \"ALL\", \"variable\": \"f1\", \"value\": 0.512459577705916}, {\"sample\": \"HG002\", \"aligner\": \"novoalign\", \"caller\": \"dysgu\", \"svtype\": \"DEL\", \"variable\": \"f1\", \"value\": 0.7773042088439}, {\"sample\": \"HG002\", \"aligner\": \"novoalign\", \"caller\": \"dysgu\", \"svtype\": \"INS\", \"variable\": \"f1\", \"value\": 0.28412397216951296}, {\"sample\": \"HG002\", \"aligner\": \"novoalign\", \"caller\": \"manta\", \"svtype\": \"ALL\", \"variable\": \"f1\", \"value\": 0.5719525959367945}, {\"sample\": \"HG002\", \"aligner\": \"novoalign\", \"caller\": \"manta\", \"svtype\": \"DEL\", \"variable\": \"f1\", \"value\": 0.7854767184035477}, {\"sample\": \"HG002\", \"aligner\": \"novoalign\", \"caller\": \"manta\", \"svtype\": \"INS\", \"variable\": \"f1\", \"value\": 0.36358217851288926}, {\"sample\": \"HG002\", \"aligner\": \"bwa-mem2\", \"caller\": \"delly\", \"svtype\": \"ALL\", \"variable\": \"recall\", \"value\": 0.24590503835786853}, {\"sample\": \"HG002\", \"aligner\": \"bwa-mem2\", \"caller\": \"delly\", \"svtype\": \"DEL\", \"variable\": \"recall\", \"value\": 0.5405662621936712}, {\"sample\": \"HG002\", \"aligner\": \"bwa-mem2\", \"caller\": \"delly\", \"svtype\": \"INS\", \"variable\": \"recall\", \"value\": 0.018372221201543266}, {\"sample\": \"HG002\", \"aligner\": \"bwa-mem2\", \"caller\": \"dysgu\", \"svtype\": \"ALL\", \"variable\": \"recall\", \"value\": 0.3921832884097035}, {\"sample\": \"HG002\", \"aligner\": \"bwa-mem2\", \"caller\": \"dysgu\", \"svtype\": \"DEL\", \"variable\": \"recall\", \"value\": 0.674756126576255}, {\"sample\": \"HG002\", \"aligner\": \"bwa-mem2\", \"caller\": \"dysgu\", \"svtype\": \"INS\", \"variable\": \"recall\", \"value\": 0.17398493477861474}, {\"sample\": \"HG002\", \"aligner\": \"bwa-mem2\", \"caller\": \"manta\", \"svtype\": \"ALL\", \"variable\": \"recall\", \"value\": 0.3836823553804686}, {\"sample\": \"HG002\", \"aligner\": \"bwa-mem2\", \"caller\": \"manta\", \"svtype\": \"DEL\", \"variable\": \"recall\", \"value\": 0.6338329764453962}, {\"sample\": \"HG002\", \"aligner\": \"bwa-mem2\", \"caller\": \"manta\", \"svtype\": \"INS\", \"variable\": \"recall\", \"value\": 0.19051993386000368}, {\"sample\": \"HG002\", \"aligner\": \"novoalign\", \"caller\": \"delly\", \"svtype\": \"ALL\", \"variable\": \"recall\", \"value\": 0.29545925772340864}, {\"sample\": \"HG002\", \"aligner\": \"novoalign\", \"caller\": \"delly\", \"svtype\": \"DEL\", \"variable\": \"recall\", \"value\": 0.6343088270283131}, {\"sample\": \"HG002\", \"aligner\": \"novoalign\", \"caller\": \"delly\", \"svtype\": \"INS\", \"variable\": \"recall\", \"value\": 0.03380488701083961}, {\"sample\": \"HG002\", \"aligner\": \"novoalign\", \"caller\": \"dysgu\", \"svtype\": \"ALL\", \"variable\": \"recall\", \"value\": 0.41893012647729627}, {\"sample\": \"HG002\", \"aligner\": \"novoalign\", \"caller\": \"dysgu\", \"svtype\": \"DEL\", \"variable\": \"recall\", \"value\": 0.6942660004758506}, {\"sample\": \"HG002\", \"aligner\": \"novoalign\", \"caller\": \"dysgu\", \"svtype\": \"INS\", \"variable\": \"recall\", \"value\": 0.20632004409333088}, {\"sample\": \"HG002\", \"aligner\": \"novoalign\", \"caller\": \"manta\", \"svtype\": \"ALL\", \"variable\": \"recall\", \"value\": 0.420277835372175}, {\"sample\": \"HG002\", \"aligner\": \"novoalign\", \"caller\": \"manta\", \"svtype\": \"DEL\", \"variable\": \"recall\", \"value\": 0.6742802759933381}, {\"sample\": \"HG002\", \"aligner\": \"novoalign\", \"caller\": \"manta\", \"svtype\": \"INS\", \"variable\": \"recall\", \"value\": 0.22414109865882786}, {\"sample\": \"HG002\", \"aligner\": \"bwa-mem2\", \"caller\": \"delly\", \"svtype\": \"ALL\", \"variable\": \"precision\", \"value\": 0.753015873015873}, {\"sample\": \"HG002\", \"aligner\": \"bwa-mem2\", \"caller\": \"delly\", \"svtype\": \"DEL\", \"variable\": \"precision\", \"value\": 0.8137535816618912}, {\"sample\": \"HG002\", \"aligner\": \"bwa-mem2\", \"caller\": \"delly\", \"svtype\": \"INS\", \"variable\": \"precision\", \"value\": 1.0}, {\"sample\": \"HG002\", \"aligner\": \"bwa-mem2\", \"caller\": \"dysgu\", \"svtype\": \"ALL\", \"variable\": \"precision\", \"value\": 0.7231886828522271}, {\"sample\": \"HG002\", \"aligner\": \"bwa-mem2\", \"caller\": \"dysgu\", \"svtype\": \"DEL\", \"variable\": \"precision\", \"value\": 0.9261920313520575}, {\"sample\": \"HG002\", \"aligner\": \"bwa-mem2\", \"caller\": \"dysgu\", \"svtype\": \"INS\", \"variable\": \"precision\", \"value\": 0.5102370689655172}, {\"sample\": \"HG002\", \"aligner\": \"bwa-mem2\", \"caller\": \"manta\", \"svtype\": \"ALL\", \"variable\": \"precision\", \"value\": 0.8939613526570048}, {\"sample\": \"HG002\", \"aligner\": \"bwa-mem2\", \"caller\": \"manta\", \"svtype\": \"DEL\", \"variable\": \"precision\", \"value\": 0.9353932584269663}, {\"sample\": \"HG002\", \"aligner\": \"bwa-mem2\", \"caller\": \"manta\", \"svtype\": \"INS\", \"variable\": \"precision\", \"value\": 0.9566420664206642}, {\"sample\": \"HG002\", \"aligner\": \"novoalign\", \"caller\": \"delly\", \"svtype\": \"ALL\", \"variable\": \"precision\", \"value\": 0.7947573898494144}, {\"sample\": \"HG002\", \"aligner\": \"novoalign\", \"caller\": \"delly\", \"svtype\": \"DEL\", \"variable\": \"precision\", \"value\": 0.8326046221111805}, {\"sample\": \"HG002\", \"aligner\": \"novoalign\", \"caller\": \"delly\", \"svtype\": \"INS\", \"variable\": \"precision\", \"value\": 0.968421052631579}, {\"sample\": \"HG002\", \"aligner\": \"novoalign\", \"caller\": \"dysgu\", \"svtype\": \"ALL\", \"variable\": \"precision\", \"value\": 0.6597551020408163}, {\"sample\": \"HG002\", \"aligner\": \"novoalign\", \"caller\": \"dysgu\", \"svtype\": \"DEL\", \"variable\": \"precision\", \"value\": 0.8829046898638426}, {\"sample\": \"HG002\", \"aligner\": \"novoalign\", \"caller\": \"dysgu\", \"svtype\": \"INS\", \"variable\": \"precision\", \"value\": 0.4561332250203087}, {\"sample\": \"HG002\", \"aligner\": \"novoalign\", \"caller\": \"manta\", \"svtype\": \"ALL\", \"variable\": \"precision\", \"value\": 0.8949227373068432}, {\"sample\": \"HG002\", \"aligner\": \"novoalign\", \"caller\": \"manta\", \"svtype\": \"DEL\", \"variable\": \"precision\", \"value\": 0.9405907733156322}, {\"sample\": \"HG002\", \"aligner\": \"novoalign\", \"caller\": \"manta\", \"svtype\": \"INS\", \"variable\": \"precision\", \"value\": 0.9621451104100947}]}}, {\"mode\": \"vega-lite\"});\n",
       "</script>"
      ],
      "text/plain": [
       "alt.Chart(...)"
      ]
     },
     "execution_count": 18,
     "metadata": {},
     "output_type": "execute_result"
    }
   ],
   "source": [
    "alt.Chart(benchmark_df_long).mark_bar().encode(\n",
    "    x=\"caller:N\",\n",
    "    y=\"value:Q\",\n",
    "    xOffset=\"aligner:N\",\n",
    "    color=\"aligner:N\",\n",
    "    column=\"svtype:N\",\n",
    "    row=\"variable:N\",\n",
    ")"
   ]
  }
 ],
 "metadata": {
  "kernelspec": {
   "display_name": "Python 3",
   "language": "python",
   "name": "python3"
  },
  "language_info": {
   "codemirror_mode": {
    "name": "ipython",
    "version": 3
   },
   "file_extension": ".py",
   "mimetype": "text/x-python",
   "name": "python",
   "nbconvert_exporter": "python",
   "pygments_lexer": "ipython3",
   "version": "3.12.4"
  }
 },
 "nbformat": 4,
 "nbformat_minor": 5
}
